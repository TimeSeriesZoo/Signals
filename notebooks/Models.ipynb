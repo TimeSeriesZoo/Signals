{
 "cells": [
  {
   "cell_type": "markdown",
   "id": "24d8a04c",
   "metadata": {},
   "source": [
    "# Model Visualizers"
   ]
  },
  {
   "cell_type": "code",
   "execution_count": 1,
   "id": "fbeb476d",
   "metadata": {},
   "outputs": [],
   "source": [
    "# import pyvista as pv\n",
    "# pv.Plotter?\n",
    "\n",
    "# import mne\n",
    "# Brain = mne.viz.get_brain_class()\n",
    "#brain = Brain('fsaverage')"
   ]
  },
  {
   "cell_type": "code",
   "execution_count": 2,
   "id": "a278ede5",
   "metadata": {},
   "outputs": [],
   "source": [
    "%matplotlib inline\n",
    "\n",
    "import numpy as np\n",
    "import matplotlib.pyplot as plt\n",
    "\n",
    "from neurodsp.sim import sim_powerlaw, sim_combined\n",
    "from neurodsp.spectral import compute_spectrum, trim_spectrum\n",
    "from neurodsp.plts.utils import check_ax\n",
    "\n",
    "from fooof import FOOOF, Bands\n",
    "from fooof.sim.gen import gen_aperiodic\n",
    "from fooof.plts.fm import _add_peaks_shade\n",
    "from fooof.analysis import get_band_peak_fm"
   ]
  },
  {
   "cell_type": "code",
   "execution_count": 3,
   "id": "3401c8cb",
   "metadata": {},
   "outputs": [],
   "source": [
    "# Import local code\n",
    "from vcode.utils.data import yield_sig\n",
    "from vcode.plts.utils import clear_output, animate_plot\n",
    "from vcode.plts.timeseries import plot_timeseries, plot_spectra"
   ]
  },
  {
   "cell_type": "code",
   "execution_count": 4,
   "id": "5a0b49ce",
   "metadata": {},
   "outputs": [],
   "source": [
    "import seaborn as sns\n",
    "sns.set_context('talk')"
   ]
  },
  {
   "cell_type": "code",
   "execution_count": 5,
   "id": "bcd9d005",
   "metadata": {},
   "outputs": [],
   "source": [
    "from matplotlib import rc\n",
    "rc('font',**{'family':'serif', 'serif':['Times']})\n",
    "#rc('font',**{'family':'sans-serif','sans-serif':['Helvetica']})\n",
    "#rc('text', usetex=True)"
   ]
  },
  {
   "cell_type": "markdown",
   "id": "dd5dc8f9",
   "metadata": {},
   "source": [
    "## Settings"
   ]
  },
  {
   "cell_type": "code",
   "execution_count": 6,
   "id": "a098ddc1",
   "metadata": {},
   "outputs": [],
   "source": [
    "BANDS = Bands({\n",
    "    'delta' : [1, 4],\n",
    "    'theta' : [4, 8],\n",
    "    'alpha' : [8, 13],\n",
    "    'beta' : [13, 30],\n",
    "    'gamma' : [30, 50]\n",
    "})\n",
    "\n",
    "COLORS = {'delta' : '#e8dc35',\n",
    "          'theta' : '#46b870',\n",
    "          'alpha' : '#1882d9',\n",
    "          'beta'  : '#a218d9',\n",
    "          'gamma' : '#e60026'}\n",
    "\n",
    "LABELS = {\n",
    "    'delta' : r'$\\delta$',\n",
    "    'theta' : r'$\\theta$',\n",
    "    'alpha' : r'$\\alpha$',\n",
    "    'beta'  : r'$\\beta$',\n",
    "    'gamma' : r'$\\gamma$'\n",
    "}"
   ]
  },
  {
   "cell_type": "code",
   "execution_count": 7,
   "id": "a65cf2e1",
   "metadata": {},
   "outputs": [],
   "source": [
    "F_RANGE = [2, 50]"
   ]
  },
  {
   "cell_type": "code",
   "execution_count": 8,
   "id": "6e0a8f7f",
   "metadata": {},
   "outputs": [],
   "source": [
    "N_SECONDS = 30\n",
    "FS = 500"
   ]
  },
  {
   "cell_type": "markdown",
   "id": "f41fb651",
   "metadata": {},
   "source": [
    "## Helper Functions"
   ]
  },
  {
   "cell_type": "code",
   "execution_count": 9,
   "id": "8c938d81",
   "metadata": {},
   "outputs": [],
   "source": [
    "def find_nearest_ind(array, value):\n",
    "    return np.abs(array-value).argmin()\n",
    "\n",
    "def compute_abs_power(freqs, powers, band):\n",
    "    \"\"\"Compute absolute power for a given frequency band.\"\"\"\n",
    "\n",
    "    _, band_powers = trim_spectrum(freqs, powers, band)\n",
    "    avg_power = np.sum(band_powers)\n",
    "\n",
    "    return avg_power\n",
    "\n",
    "def get_features(model, freqs, powers):\n",
    "    \n",
    "    funcs = {\n",
    "        'freq' : get_features_freq,\n",
    "        'band' : get_features_band,\n",
    "        'peap' : get_features_peap,\n",
    "    }\n",
    "    \n",
    "    return funcs[model](freqs, powers)\n",
    "\n",
    "def get_features_freq(freqs, powers):\n",
    "\n",
    "    extract = np.array([5, 10, 15, 20, 25])\n",
    "    values = [powers[find_nearest_ind(freqs, freq)] for freq in extract]\n",
    "    \n",
    "    c1 = ['freq-{}'.format(val) for val in extract]\n",
    "    c2 = ['{:1.3f}'.format(val) for val in values]\n",
    "    col_data = [[a, b] for a, b in zip(c1, c2)]\n",
    "\n",
    "    return col_data\n",
    "\n",
    "def get_features_band(freqs, powers):\n",
    "    \n",
    "    powers = [compute_abs_power(freqs, powers, band) for band in BANDS.definitions]\n",
    "    powers = ['{:1.3f}'.format(val) for val in powers]\n",
    "    col_data = [[a, b] for a, b in zip(LABELS.values(), powers)]\n",
    "\n",
    "    return col_data\n",
    "\n",
    "def fit_specparam(freqs, powers):\n",
    "    \n",
    "    fm = FOOOF(min_peak_height=0.35, verbose=False)\n",
    "    fm.fit(freqs, powers)\n",
    "\n",
    "    return fm\n",
    "\n",
    "def get_features_peap(freqs, powers):\n",
    "    \n",
    "    exp = FM.get_params('aperiodic', 'exponent')\n",
    "    off = FM.get_params('aperiodic', 'offset')\n",
    "    \n",
    "    alpha = get_band_peak_fm(FM, [8, 13])\n",
    "    if np.isnan(alpha[0]):\n",
    "        alpha = [0, 0, 0, ]\n",
    "    cf, pw, bw = alpha\n",
    "    \n",
    "    labels = ['ap-exp', 'ap-off', r'$\\alpha$-cf', r'$\\alpha$-pw', r'$\\alpha$-bw']    \n",
    "    values = ['{:1.3f}'.format(val) for val in [exp, off, cf, pw, bw]]\n",
    "    \n",
    "    col_data = [[a, b] for a, b in zip(labels, values)]\n",
    "    \n",
    "    return col_data"
   ]
  },
  {
   "cell_type": "markdown",
   "id": "f8d9d053",
   "metadata": {},
   "source": [
    "## Plot Functions"
   ]
  },
  {
   "cell_type": "code",
   "execution_count": 10,
   "id": "52805e48",
   "metadata": {},
   "outputs": [],
   "source": [
    "def plot_model_spectrum(model, freqs, powers, ax, **kwargs):\n",
    "    \n",
    "    funcs = {\n",
    "        'freq' : plot_spectra_freq,\n",
    "        'band' : plot_spectra_band,\n",
    "        'peap' : plot_spectra_peap\n",
    "    }\n",
    "    \n",
    "    funcs[model](freqs, powers, **kwargs, ax=ax)\n",
    "\n",
    "def plot_spectra_freq(freqs, powers, ax=None):\n",
    "\n",
    "    ax = check_ax(ax)\n",
    "    plot_spectra(freqs, powers,\n",
    "                 marker='.', linestyle=\"\",\n",
    "                 xlim=F_RANGE, colors='black',\n",
    "                 ax=ax)\n",
    "\n",
    "def plot_spectra_band(freqs, powers, ax=None):\n",
    "    \n",
    "    ax = check_ax(ax)\n",
    "    plot_spectra(freqs, powers,\n",
    "                 shade_ranges=BANDS.definitions,\n",
    "                 shade_colors=list(COLORS.values()), \n",
    "                 xlim=F_RANGE, colors='black', alpha=0.75,\n",
    "                 ax=ax)\n",
    "\n",
    "def plot_spectra_peap(freqs, powers, ax=None):\n",
    "    \n",
    "    ax = check_ax(ax)\n",
    "    plot_spectra(freqs, powers,\n",
    "                 xlim=F_RANGE, colors='black', alpha=0.75,\n",
    "                 ax=ax)\n",
    "    \n",
    "    ap_fit = gen_aperiodic(freqs, FM.aperiodic_params_)\n",
    "    #ax.plot(np.log10(freqs), FM.fooofed_spectrum_, color='red', alpha=0.5)\n",
    "    ax.plot(np.log10(freqs), ap_fit, '--', c='blue', lw=2.5, alpha=0.75)\n",
    "    if FM.n_peaks_:\n",
    "        _add_peaks_shade(FM, True, ax)"
   ]
  },
  {
   "cell_type": "code",
   "execution_count": 11,
   "id": "ab71913a",
   "metadata": {},
   "outputs": [],
   "source": [
    "def plot_table(table_data, ax=None):\n",
    "    \n",
    "    ax = check_ax(ax)\n",
    "\n",
    "    table = plt.table(table_data, colWidths=[0.5, 0.5],\n",
    "                      loc='center', cellLoc='center')\n",
    "    table.set_fontsize(18)\n",
    "    table.scale(1, 3)\n",
    "    ax.axis('off')\n",
    "    \n",
    "def _add_model_text(model, ax=None):\n",
    "\n",
    "    ax = check_ax(ax)\n",
    "    fontdict = {'fontsize' : 18}\n",
    "    \n",
    "    texts = {\n",
    "        'freq' : 'Frequency\\nby\\nFrequency',\n",
    "        'band' : 'Band\\nby\\nBand',\n",
    "        'peap' : 'Periodic\\n&\\nAperiodic'\n",
    "    }\n",
    "    \n",
    "    ax.text(0.5, 0.85, \"Model:\",\n",
    "            fontdict=fontdict, ha='center')\n",
    "    ax.text(0.5, 0.35, texts[model],\n",
    "             fontdict=fontdict, ha='center')\n",
    "    ax.axis('off')"
   ]
  },
  {
   "cell_type": "code",
   "execution_count": 12,
   "id": "a64b7c1a",
   "metadata": {},
   "outputs": [],
   "source": [
    "def make_axes():\n",
    "    \"\"\"Make axes for combined plot.\n",
    "    \n",
    "    Notes:\n",
    "    Placement definitions: Left, Bottom, Width, Height\n",
    "    \"\"\"\n",
    "    \n",
    "    fig = plt.figure()\n",
    "    ax1 = fig.add_axes([0.0, 1.1, 0.4, 0.5]) \n",
    "    ax2 = fig.add_axes([0.5, 1.3, 1., 0.3]) \n",
    "\n",
    "    ax3 = fig.add_axes([0.0, 0.5, 0.4, 0.5])\n",
    "    ax4 = fig.add_axes([0.5, 0.5, 0.6, 0.65])\n",
    "    ax5 = fig.add_axes([1.2, 0.5, 0.3, 0.65])\n",
    "        \n",
    "    return fig, [ax1, ax2, ax3, ax4, ax5]"
   ]
  },
  {
   "cell_type": "markdown",
   "id": "1730fbba",
   "metadata": {},
   "source": [
    "## Simulate Signals"
   ]
  },
  {
   "cell_type": "code",
   "execution_count": 13,
   "id": "dc0132a6",
   "metadata": {},
   "outputs": [],
   "source": [
    "sig = sim_powerlaw(N_SECONDS, FS, -1.25, f_range=(0.5, None))"
   ]
  },
  {
   "cell_type": "code",
   "execution_count": 14,
   "id": "22b4a619",
   "metadata": {},
   "outputs": [],
   "source": [
    "comp_vars = [0.5, 1]\n",
    "#comps = {'sim_powerlaw' : {'exponent' : -1.25, 'f_range' : (0.5, None)},\n",
    "#         'sim_oscillation' : {'freq' : 10}}\n",
    "\n",
    "comps = {'sim_powerlaw' : {'exponent' : -1.25, 'f_range' : (0.5, None)},\n",
    "         'sim_bursty_oscillation' : {'freq' : 10}}"
   ]
  },
  {
   "cell_type": "code",
   "execution_count": 15,
   "id": "5a778506",
   "metadata": {},
   "outputs": [],
   "source": [
    "sig = sim_combined(N_SECONDS, FS, comps, comp_vars)"
   ]
  },
  {
   "cell_type": "markdown",
   "id": "36930846",
   "metadata": {},
   "source": [
    "## Make Example Image"
   ]
  },
  {
   "cell_type": "code",
   "execution_count": 16,
   "id": "e00ebcf0",
   "metadata": {},
   "outputs": [
    {
     "data": {
      "text/plain": [
       "Text(0.5, 1.0, 'Features')"
      ]
     },
     "execution_count": 16,
     "metadata": {},
     "output_type": "execute_result"
    },
    {
     "data": {
      "image/png": "[encoded data removed]",
      "text/plain": [
       "<Figure size 432x288 with 5 Axes>"
      ]
     },
     "metadata": {
      "needs_background": "light"
     },
     "output_type": "display_data"
    }
   ],
   "source": [
    "#MODEL = 'freq'\n",
    "MODEL = 'band'\n",
    "#MODEL = 'peap'\n",
    "\n",
    "fig, axes = make_axes()\n",
    "\n",
    "# Compute needed things\n",
    "freqs, powers = trim_spectrum(*compute_spectrum(sig[0:1000], fs=FS), F_RANGE)\n",
    "\n",
    "if MODEL == 'peap':\n",
    "    FM = fit_specparam(freqs, powers)\n",
    "\n",
    "# Axis 0\n",
    "axes[0].text(0.4, 0.5, 'add brain')\n",
    "axes[0].axis('off')\n",
    "\n",
    "# Axis 1\n",
    "plot_timeseries(sig, colors='black', alpha=0.75, ax=axes[1], xlim=[0, 500])\n",
    "axes[1].axis('off')\n",
    "\n",
    "# Axis 2\n",
    "_add_model_text(MODEL, ax=axes[2])\n",
    "\n",
    "# Axis 3\n",
    "plot_model_spectrum(MODEL, freqs, powers, ax=axes[3])\n",
    "axes[3].set_title('Spectral Representation')\n",
    "\n",
    "# Axis 4\n",
    "table_data = get_features(MODEL, freqs, powers)\n",
    "plot_table(table_data, ax=axes[4])\n",
    "axes[4].set_title('Features')"
   ]
  },
  {
   "cell_type": "markdown",
   "id": "8715fd2e",
   "metadata": {},
   "source": [
    "## Build Function"
   ]
  },
  {
   "cell_type": "code",
   "execution_count": 17,
   "id": "55155b97",
   "metadata": {},
   "outputs": [],
   "source": [
    "#MODEL = 'freq'\n",
    "MODEL = 'band'\n",
    "#MODEL = 'peap'"
   ]
  },
  {
   "cell_type": "code",
   "execution_count": 18,
   "id": "046f5b1b",
   "metadata": {},
   "outputs": [],
   "source": [
    "def build_all(sig, n_build=np.inf, sleep=0.05, label='viz', save=False):\n",
    "    \"\"\"Build all plots together.\"\"\"\n",
    "\n",
    "    size = 500\n",
    "    step = 2\n",
    "    start = 2000\n",
    "\n",
    "    sig_yielder = yield_sig(sig, start=start, size=size, step=step)\n",
    "\n",
    "    for ind in range(n_build):\n",
    "\n",
    "        clear_output(wait=True)\n",
    "\n",
    "        fig, axes = make_axes()\n",
    "\n",
    "        # Compute needed things\n",
    "        spect_sig = sig[start + step * ind-2000:start + step * ind+2000]\n",
    "        freqs, powers = trim_spectrum(*compute_spectrum(spect_sig, fs=FS), F_RANGE)\n",
    "\n",
    "        if MODEL == 'peap':\n",
    "            global FM\n",
    "            FM = fit_specparam(freqs, powers)\n",
    "\n",
    "        # Axis 0\n",
    "        axes[0].text(0.4, 0.5, 'add brain')\n",
    "        axes[0].axis('off')\n",
    "\n",
    "        # Axis 1\n",
    "        plot_timeseries(next(sig_yielder), colors='black',\n",
    "                        alpha=0.75, ax=axes[1])\n",
    "        axes[1].axis('off')\n",
    "\n",
    "        # Axis 2\n",
    "        _add_model_text(MODEL, ax=axes[2])\n",
    "\n",
    "        # Axis 3\n",
    "        plot_model_spectrum(MODEL, freqs, powers, ax=axes[3])\n",
    "        axes[3].set_title('Spectral Representation')\n",
    "\n",
    "        # Axis 4\n",
    "        #table_data = get_features_freq()\n",
    "        table_data = get_features(MODEL, freqs, powers)\n",
    "        plot_table(table_data, ax=axes[4])\n",
    "        axes[4].set_title('Features')\n",
    "\n",
    "        animate_plot(fig, save, ind, label=label, sleep=sleep)"
   ]
  },
  {
   "cell_type": "code",
   "execution_count": 19,
   "id": "4879f73f",
   "metadata": {},
   "outputs": [
    {
     "data": {
      "image/png": "[encoded data removed]",
      "text/plain": [
       "<Figure size 432x288 with 5 Axes>"
      ]
     },
     "metadata": {
      "needs_background": "light"
     },
     "output_type": "display_data"
    }
   ],
   "source": [
    "build_all(sig, n_build=50)"
   ]
  },
  {
   "cell_type": "markdown",
   "id": "022b2aa6",
   "metadata": {},
   "source": [
    "## zMISC / EXTRA"
   ]
  },
  {
   "cell_type": "code",
   "execution_count": 22,
   "id": "c5235cc1",
   "metadata": {},
   "outputs": [],
   "source": [
    "table_data=[\n",
    "    [\"f1\", 10],\n",
    "    [\"f2\", 20],\n",
    "    [\"f3\", 30],\n",
    "    [\"f4\", 0.6],\n",
    "    [\"f5\", 0.4]\n",
    "]\n",
    "\n",
    "table_data=[\n",
    "    [r'$\\delta$', 10],\n",
    "    [r'$\\theta$', 20],\n",
    "    [r'$\\alpha$', 30],\n",
    "    [r'$\\beta$', 0.6],\n",
    "    [r'$\\gamma$', 0.4]\n",
    "]\n",
    "\n",
    "table_data=[\n",
    "    ['ap-exp', 10],\n",
    "    ['ap-off', 20],\n",
    "    [r'$\\alpha$-cf', 30],\n",
    "    [r'$\\alpha$-pw', 0.6],\n",
    "    [r'$\\alpha$-bw', 0.4]\n",
    "]"
   ]
  },
  {
   "cell_type": "code",
   "execution_count": 23,
   "id": "69695817",
   "metadata": {},
   "outputs": [
    {
     "data": {
      "image/png": "[encoded data removed]",
      "text/plain": [
       "<Figure size 432x288 with 1 Axes>"
      ]
     },
     "metadata": {
      "needs_background": "light"
     },
     "output_type": "display_data"
    }
   ],
   "source": [
    "plot_table(table_data)"
   ]
  },
  {
   "cell_type": "code",
   "execution_count": null,
   "id": "01d04698",
   "metadata": {},
   "outputs": [],
   "source": []
  }
 ],
 "metadata": {
  "kernelspec": {
   "display_name": "Python 3 (ipykernel)",
   "language": "python",
   "name": "python3"
  },
  "language_info": {
   "codemirror_mode": {
    "name": "ipython",
    "version": 3
   },
   "file_extension": ".py",
   "mimetype": "text/x-python",
   "name": "python",
   "nbconvert_exporter": "python",
   "pygments_lexer": "ipython3",
   "version": "3.8.3"
  }
 },
 "nbformat": 4,
 "nbformat_minor": 5
}
