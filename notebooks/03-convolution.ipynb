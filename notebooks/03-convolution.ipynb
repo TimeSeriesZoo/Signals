{
 "cells": [
  {
   "cell_type": "markdown",
   "id": "004f19bd",
   "metadata": {},
   "source": [
    "# Convolution\n",
    "\n",
    "Animated visualizer for convolution."
   ]
  },
  {
   "cell_type": "code",
   "execution_count": 1,
   "id": "7098f1be",
   "metadata": {},
   "outputs": [],
   "source": [
    "%matplotlib inline\n",
    "\n",
    "import time\n",
    "\n",
    "import matplotlib.pyplot as plt\n",
    "from scipy.signal import gaussian\n",
    "\n",
    "from neurodsp.filt.fir import *\n",
    "\n",
    "from neurodsp.sim import sim_powerlaw\n",
    "from neurodsp.plts import plot_time_series\n",
    "from neurodsp.utils import create_samples\n",
    "\n",
    "from neurodsp.utils import set_random_seed"
   ]
  },
  {
   "cell_type": "code",
   "execution_count": 2,
   "id": "e1ba3464",
   "metadata": {},
   "outputs": [],
   "source": [
    "import seaborn as sns\n",
    "sns.set_context('talk')"
   ]
  },
  {
   "cell_type": "code",
   "execution_count": 3,
   "id": "3dbe658e",
   "metadata": {},
   "outputs": [],
   "source": [
    "# Import local code\n",
    "from vcode.gif import clear_output, _gif_plot_output\n",
    "from vcode.utils import yield_sig as yield_sig2"
   ]
  },
  {
   "cell_type": "markdown",
   "id": "eef6da58",
   "metadata": {},
   "source": [
    "## Setup\n",
    "\n",
    "Setup for creating the convolution visualizer."
   ]
  },
  {
   "cell_type": "markdown",
   "id": "4c878275",
   "metadata": {},
   "source": [
    "### Settings"
   ]
  },
  {
   "cell_type": "code",
   "execution_count": 19,
   "id": "4ef7c5cc",
   "metadata": {},
   "outputs": [],
   "source": [
    "# Signal settings\n",
    "n_seconds = 1.\n",
    "fs = 250"
   ]
  },
  {
   "cell_type": "code",
   "execution_count": 26,
   "id": "3d05269c",
   "metadata": {},
   "outputs": [],
   "source": [
    "# Gifmaking settings\n",
    "SAVE = False"
   ]
  },
  {
   "cell_type": "code",
   "execution_count": 20,
   "id": "ce8edac4",
   "metadata": {},
   "outputs": [],
   "source": [
    "# Set random seed\n",
    "set_random_seed(505)"
   ]
  },
  {
   "cell_type": "markdown",
   "id": "26c6c8ac",
   "metadata": {},
   "source": [
    "### Plot Functions"
   ]
  },
  {
   "cell_type": "code",
   "execution_count": 21,
   "id": "ee35e010",
   "metadata": {},
   "outputs": [],
   "source": [
    "def plot_sig_kernel(sig, samps, kernel, ax=None):\n",
    "    \"\"\"Plot a signal with an overlying kernel.\"\"\"\n",
    "    \n",
    "    if not ax:\n",
    "        _, ax = plt.subplots(figsize=[12, 2])\n",
    "        \n",
    "    ax.plot(sig, color='black', alpha=0.25)\n",
    "    ax.plot(samps, sig[samps], marker='.', markersize=2.5, linewidth=0, color='blue')\n",
    "    ax.plot(samps, kernel*25 - 0.5, color='red', alpha=0.75)\n",
    "\n",
    "    ax.set(xlim=[0, len(sig)], ylim=[-3.5, 3.5])        \n",
    "    ax.set(xticks=[], yticks=[], xlabel='', ylabel='');\n",
    "    \n",
    "def plot_convolution(samples, convolved, ax=None):\n",
    "    \"\"\"Plot the output of a convolution.\"\"\"\n",
    "    \n",
    "    if not ax:\n",
    "        _, ax = plt.subplots(figsize=[12, 2])\n",
    "\n",
    "    ax.plot(samples, convolved, alpha=0.5, color='green')\n",
    "    \n",
    "    ind = np.where(~np.isnan(convolved))[0][-1]\n",
    "    ax.plot(samples[ind], convolved[ind], '.', markersize=12, color='green', alpha=0.75)\n",
    "\n",
    "    ax.set(xlim=[0, len(sig)], ylim=[-3.5, 3.5])\n",
    "    ax.set(xticks=[], yticks=[], xlabel='', ylabel='');"
   ]
  },
  {
   "cell_type": "markdown",
   "id": "2c7b4333",
   "metadata": {},
   "source": [
    "### Build Functions"
   ]
  },
  {
   "cell_type": "code",
   "execution_count": 27,
   "id": "66bcc395",
   "metadata": {},
   "outputs": [],
   "source": [
    "def make_axes():\n",
    "    \"\"\"Make axes for combined plot.\n",
    "\n",
    "    Placement definitions: Left, Bottom, Width, Height\n",
    "    \"\"\"\n",
    "    \n",
    "    fig = plt.figure()\n",
    "    ax1 = fig.add_axes([0.0, 0.5, 1.7, 0.45])\n",
    "    ax2 = fig.add_axes([0.0, 0.0, 1.7, 0.45])\n",
    "    \n",
    "    return fig, [ax1, ax2]\n",
    "\n",
    "\n",
    "def build_all(sig, kernel, sleep=0.025, save=False):\n",
    "    \"\"\"Build all plots together.\"\"\"\n",
    "    \n",
    "    samples = create_samples(len(sig))\n",
    "    convolved = np.ones(len(sig)) * np.nan\n",
    "    halfwid = int(np.ceil(len(kernel)/2))\n",
    "        \n",
    "    for ind in range(0, len(sig)-len(kernel) + 1, 1):\n",
    "        \n",
    "        clear_output(wait=True)\n",
    "        fig, axes = make_axes()\n",
    "        \n",
    "        convolved[ind+halfwid] = np.dot(sig[samps+ind], kernel)\n",
    "\n",
    "        plot_sig_kernel(sig, samps+ind, kernel, ax=axes[0])\n",
    "        plot_convolution(samples, convolved, ax=axes[1])\n",
    "        \n",
    "        _gif_plot_output(fig, save, ind, label='03_conv', sleep=sleep)"
   ]
  },
  {
   "cell_type": "markdown",
   "id": "b44efd11",
   "metadata": {},
   "source": [
    "## Animation\n",
    "\n",
    "Wrods, words, words,"
   ]
  },
  {
   "cell_type": "markdown",
   "id": "30ee2566",
   "metadata": {},
   "source": [
    "### Create Signal"
   ]
  },
  {
   "cell_type": "code",
   "execution_count": 18,
   "id": "6c7d51ef",
   "metadata": {},
   "outputs": [],
   "source": [
    "sig = sim_powerlaw(n_seconds, fs, f_range=(2, None))"
   ]
  },
  {
   "cell_type": "markdown",
   "id": "22b93d4c",
   "metadata": {},
   "source": [
    "### Create Kernel"
   ]
  },
  {
   "cell_type": "code",
   "execution_count": 7,
   "id": "1b083f33",
   "metadata": {},
   "outputs": [],
   "source": [
    "kernel = gaussian(51, 10, sym=True) * 0.1"
   ]
  },
  {
   "cell_type": "code",
   "execution_count": 8,
   "id": "03b60d1d",
   "metadata": {},
   "outputs": [],
   "source": [
    "samps = create_samples(len(kernel))"
   ]
  },
  {
   "cell_type": "code",
   "execution_count": 9,
   "id": "4a1d026c",
   "metadata": {},
   "outputs": [
    {
     "data": {
      "text/plain": [
       "[<matplotlib.lines.Line2D at 0x7f99f84fe3a0>]"
      ]
     },
     "execution_count": 9,
     "metadata": {},
     "output_type": "execute_result"
    },
    {
     "data": {
      "image/png": "[encoded data removed]",
      "text/plain": [
       "<Figure size 432x288 with 1 Axes>"
      ]
     },
     "metadata": {
      "needs_background": "light"
     },
     "output_type": "display_data"
    }
   ],
   "source": [
    "plt.plot(kernel)"
   ]
  },
  {
   "cell_type": "markdown",
   "id": "28b62739",
   "metadata": {},
   "source": [
    "### Plot signal & kernel"
   ]
  },
  {
   "cell_type": "code",
   "execution_count": 11,
   "id": "aef9bdf9",
   "metadata": {},
   "outputs": [
    {
     "data": {
      "image/png": "[encoded data removed]",
      "text/plain": [
       "<Figure size 864x144 with 1 Axes>"
      ]
     },
     "metadata": {},
     "output_type": "display_data"
    }
   ],
   "source": [
    "for ind in range(0, len(sig)-len(kernel) + 1, 1):\n",
    "    clear_output(wait=True)\n",
    "    plot_sig_kernel(sig, samps+ind, kernel)\n",
    "    time.sleep(0.025)\n",
    "    plt.show()"
   ]
  },
  {
   "cell_type": "markdown",
   "id": "babce355",
   "metadata": {},
   "source": [
    "### Plot convolution output"
   ]
  },
  {
   "cell_type": "code",
   "execution_count": 24,
   "id": "79e1e4d3",
   "metadata": {},
   "outputs": [
    {
     "data": {
      "image/png": "[encoded data removed]",
      "text/plain": [
       "<Figure size 864x144 with 1 Axes>"
      ]
     },
     "metadata": {},
     "output_type": "display_data"
    }
   ],
   "source": [
    "samples = create_samples(len(sig))\n",
    "convolved = np.ones(len(sig)) * np.nan\n",
    "halfwid = int(np.ceil(len(kernel)/2))\n",
    "\n",
    "for ind in range(0, len(sig)-len(kernel) + 1, 1):\n",
    "    \n",
    "    clear_output(wait=True)\n",
    "    \n",
    "    convolved[ind+halfwid] = np.dot(sig[samps+ind], kernel)\n",
    "    plot_convolution(samples, convolved)\n",
    "    \n",
    "    time.sleep(0.025)\n",
    "    plt.show()"
   ]
  },
  {
   "cell_type": "markdown",
   "id": "29b89084",
   "metadata": {},
   "source": [
    "## Make Combined Animation"
   ]
  },
  {
   "cell_type": "code",
   "execution_count": 28,
   "id": "e57b49c6",
   "metadata": {},
   "outputs": [],
   "source": [
    "build_all(sig, kernel, save=True)"
   ]
  },
  {
   "cell_type": "markdown",
   "id": "2afaea46",
   "metadata": {},
   "source": [
    "## Check convolution\n",
    "\n",
    "Since we are computing the convolution manually, double check we get the expected results."
   ]
  },
  {
   "cell_type": "code",
   "execution_count": 16,
   "id": "42e45cd2",
   "metadata": {},
   "outputs": [],
   "source": [
    "# Compute the expected output of the convolution, from numpy\n",
    "expected = np.convolve(kernel, sig, 'valid')"
   ]
  },
  {
   "cell_type": "code",
   "execution_count": 17,
   "id": "6e2caf10",
   "metadata": {},
   "outputs": [
    {
     "data": {
      "image/png": "[encoded data removed]",
      "text/plain": [
       "<Figure size 1080x216 with 1 Axes>"
      ]
     },
     "metadata": {
      "needs_background": "light"
     },
     "output_type": "display_data"
    }
   ],
   "source": [
    "# Plot the expected and computed convolution\n",
    "plot_time_series(None, [expected, convolved[~np.isnan(convolved)]],\n",
    "                 alpha=0.5, colors=['b', 'r'])"
   ]
  }
 ],
 "metadata": {
  "kernelspec": {
   "display_name": "Python 3 (ipykernel)",
   "language": "python",
   "name": "python3"
  },
  "language_info": {
   "codemirror_mode": {
    "name": "ipython",
    "version": 3
   },
   "file_extension": ".py",
   "mimetype": "text/x-python",
   "name": "python",
   "nbconvert_exporter": "python",
   "pygments_lexer": "ipython3",
   "version": "3.8.3"
  }
 },
 "nbformat": 4,
 "nbformat_minor": 5
}
