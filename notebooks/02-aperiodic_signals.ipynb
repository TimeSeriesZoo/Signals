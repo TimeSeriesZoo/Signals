{
 "cells": [
  {
   "cell_type": "markdown",
   "metadata": {},
   "source": [
    "# Aperiodic Signals\n",
    "\n",
    "Words, words, words."
   ]
  },
  {
   "cell_type": "code",
   "execution_count": 1,
   "metadata": {},
   "outputs": [],
   "source": [
    "%matplotlib inline\n",
    "\n",
    "import warnings\n",
    "import collections\n",
    "\n",
    "import numpy as np\n",
    "import matplotlib.pyplot as plt\n",
    "\n",
    "from neurodsp.sim import sim_powerlaw\n",
    "from neurodsp.plts import plot_power_spectra\n",
    "from neurodsp.spectral import compute_spectrum\n",
    "from neurodsp.utils import set_random_seed"
   ]
  },
  {
   "cell_type": "code",
   "execution_count": 2,
   "metadata": {},
   "outputs": [],
   "source": [
    "# Import local code\n",
    "from vcode.utils.data import yield_sig as yield_sig2\n",
    "from vcode.plts.utils import clear_output, animate_plot"
   ]
  },
  {
   "cell_type": "markdown",
   "metadata": {},
   "source": [
    "## Setup\n",
    "\n",
    "Words, words, words."
   ]
  },
  {
   "cell_type": "markdown",
   "metadata": {},
   "source": [
    "### Settings"
   ]
  },
  {
   "cell_type": "code",
   "execution_count": 3,
   "metadata": {},
   "outputs": [],
   "source": [
    "import seaborn as sns\n",
    "sns.set_context('talk')"
   ]
  },
  {
   "cell_type": "code",
   "execution_count": 4,
   "metadata": {},
   "outputs": [],
   "source": [
    "# Set random seed\n",
    "set_random_seed(505)"
   ]
  },
  {
   "cell_type": "markdown",
   "metadata": {},
   "source": [
    "### Plot Functions"
   ]
  },
  {
   "cell_type": "code",
   "execution_count": 5,
   "metadata": {},
   "outputs": [],
   "source": [
    "def plot_ts(data_dict, ax=None):\n",
    "    \"\"\"Plot timeseries.\"\"\"\n",
    "    \n",
    "    if not ax:\n",
    "        _, ax = plt.subplots()\n",
    "    \n",
    "    for label, data in data_dict.items():\n",
    "        ax.plot(data, label=label)\n",
    "\n",
    "    ax.set(xticks=[], yticks=[]);        \n",
    "    plt.grid(True)\n",
    "    \n",
    "    \n",
    "def plot_hist(data_dict, ax=None):\n",
    "    \"\"\"Plot histogram.\"\"\"\n",
    "    \n",
    "    if not ax:\n",
    "        _, ax = plt.subplots()\n",
    "    \n",
    "    for label, data in data_dict.items():\n",
    "        ax.hist(data, label=label, alpha=0.5)\n",
    "\n",
    "    ax.set(xticks=[], yticks=[]);\n",
    "    plt.grid(True)\n",
    "    \n",
    "    \n",
    "def plot_spectrum(data_dict, ax=None):\n",
    "    \"\"\"Plot spectrum.\"\"\"\n",
    "    \n",
    "    if not ax:\n",
    "        _, ax = plt.subplots()\n",
    "    \n",
    "    for label, data in data_dict.items():  \n",
    "        with warnings.catch_warnings():\n",
    "            warnings.simplefilter(\"ignore\")\n",
    "            freqs, powers = compute_spectrum(np.array(data), fs=fs)\n",
    "            ax.plot(np.log(freqs), np.log(powers))\n",
    "            #ax.loglog(freqs, powers)\n",
    "            #plot_power_spectra(freqs, powers, ax=ax)\n",
    "            ax.set(xticks=[], yticks=[]);"
   ]
  },
  {
   "cell_type": "markdown",
   "metadata": {},
   "source": [
    "### Build Functions"
   ]
  },
  {
   "cell_type": "code",
   "execution_count": 6,
   "metadata": {},
   "outputs": [],
   "source": [
    "def yield_sig(sig, step=1):\n",
    "    \"\"\"Helper function for yielder segments of a signal.\"\"\"\n",
    "    \n",
    "    for chunk in sig[::step]:\n",
    "        yield chunk"
   ]
  },
  {
   "cell_type": "code",
   "execution_count": 7,
   "metadata": {},
   "outputs": [],
   "source": [
    "def make_axes():\n",
    "    \"\"\"Make axes for combined plot.\n",
    "    \n",
    "    Notes:\n",
    "    Placement definitions: Left, Bottom, Width, Height\n",
    "    \"\"\"\n",
    "    \n",
    "    fig = plt.figure()\n",
    "    ax1 = fig.add_axes([0.0, 0.6, 1.3, 0.5])\n",
    "    ax2 = fig.add_axes([0.0, 0.0, 0.6, 0.5])\n",
    "    ax3 = fig.add_axes([0.7, 0.0, 0.6, 0.5]) \n",
    "    \n",
    "    return fig, [ax1, ax2, ax3]"
   ]
  },
  {
   "cell_type": "code",
   "execution_count": 15,
   "metadata": {},
   "outputs": [],
   "source": [
    "def build_plot(sigs, plot_func, *args, sleep=0.05, n_build=25):\n",
    "    \"\"\"A generic builder function for animated plots on signals.\"\"\"\n",
    "    \n",
    "    yielders = [yield_sig(sig) for sig in sigs]\n",
    "    \n",
    "    data = collections.defaultdict(list)\n",
    "    \n",
    "    for ind in range(n_build):\n",
    "        \n",
    "        clear_output(wait=True)\n",
    "        \n",
    "        for ind, yielder in enumerate(yielders):\n",
    "            data[ind].append(next(yielder))\n",
    "        \n",
    "        plot_func(data)\n",
    "        \n",
    "        animate_plot(plt.gcf(), False, ind, sleep=sleep)"
   ]
  },
  {
   "cell_type": "code",
   "execution_count": 16,
   "metadata": {},
   "outputs": [],
   "source": [
    "def build_all(sigs, n_build=np.inf, sleep=0.05, save=False):\n",
    "    \"\"\"Build all plots together.\"\"\"\n",
    "    \n",
    "    yielders = [yield_sig(sig) for sig in sigs]\n",
    "    \n",
    "    data = collections.defaultdict(list)\n",
    "\n",
    "    for ind in range(n_build):\n",
    "        \n",
    "        clear_output(wait=True)\n",
    "\n",
    "        fig, axes = make_axes()\n",
    "        \n",
    "        for ind, yielder in enumerate(yielders):\n",
    "            data[ind].append(next(yielder))\n",
    "        \n",
    "        plot_ts(data, ax=axes[0])\n",
    "        plot_hist(data, ax=axes[1])\n",
    "        plot_spectrum(data, ax=axes[2])\n",
    "        \n",
    "        animate_plot(fig, save, ind, label='02_ap_sig', sleep=sleep)"
   ]
  },
  {
   "cell_type": "markdown",
   "metadata": {},
   "source": [
    "## Simulate Data"
   ]
  },
  {
   "cell_type": "code",
   "execution_count": 17,
   "metadata": {},
   "outputs": [],
   "source": [
    "n_seconds = 10\n",
    "fs = 100"
   ]
  },
  {
   "cell_type": "code",
   "execution_count": 18,
   "metadata": {},
   "outputs": [],
   "source": [
    "sig1 = sim_powerlaw(n_seconds, fs, 0)\n",
    "sig2 = sim_powerlaw(n_seconds, fs, -1)\n",
    "sig3 = sim_powerlaw(n_seconds, fs, -2)"
   ]
  },
  {
   "cell_type": "code",
   "execution_count": 19,
   "metadata": {},
   "outputs": [],
   "source": [
    "# yielder1 = yield_sig(sig1)\n",
    "# yielder2 = yield_sig(sig2)\n",
    "# yielder3 = yield_sig(sig3)"
   ]
  },
  {
   "cell_type": "code",
   "execution_count": 20,
   "metadata": {},
   "outputs": [
    {
     "data": {
      "image/png": "[encoded data removed]",
      "text/plain": [
       "<Figure size 432x288 with 1 Axes>"
      ]
     },
     "metadata": {},
     "output_type": "display_data"
    }
   ],
   "source": [
    "build_plot([sig1, sig2], plot_ts)"
   ]
  },
  {
   "cell_type": "code",
   "execution_count": 21,
   "metadata": {},
   "outputs": [
    {
     "data": {
      "image/png": "[encoded data removed]",
      "text/plain": [
       "<Figure size 432x288 with 1 Axes>"
      ]
     },
     "metadata": {},
     "output_type": "display_data"
    }
   ],
   "source": [
    "build_plot([sig1, sig2], plot_hist)"
   ]
  },
  {
   "cell_type": "code",
   "execution_count": 22,
   "metadata": {},
   "outputs": [
    {
     "data": {
      "image/png": "[encoded data removed]",
      "text/plain": [
       "<Figure size 432x288 with 1 Axes>"
      ]
     },
     "metadata": {},
     "output_type": "display_data"
    }
   ],
   "source": [
    "build_plot([sig1, sig2], plot_spectrum, n_build=25)"
   ]
  },
  {
   "cell_type": "markdown",
   "metadata": {},
   "source": [
    "### Create visualizer with all panels"
   ]
  },
  {
   "cell_type": "code",
   "execution_count": 23,
   "metadata": {},
   "outputs": [],
   "source": [
    "#build_all([sig2], n_build=250, sleep=0.01)"
   ]
  },
  {
   "cell_type": "code",
   "execution_count": 24,
   "metadata": {},
   "outputs": [],
   "source": [
    "#build_all([sig2, sig3], n_build=250, sleep=0.01)"
   ]
  },
  {
   "cell_type": "code",
   "execution_count": null,
   "metadata": {},
   "outputs": [],
   "source": []
  },
  {
   "cell_type": "code",
   "execution_count": null,
   "metadata": {},
   "outputs": [],
   "source": []
  },
  {
   "cell_type": "markdown",
   "metadata": {},
   "source": [
    "## EXTRA"
   ]
  },
  {
   "cell_type": "code",
   "execution_count": null,
   "metadata": {},
   "outputs": [],
   "source": [
    "import numpy as np\n",
    "import matplotlib.pyplot as plt\n",
    "\n",
    "from neurodsp.sim import sim_powerlaw\n",
    "from neurodsp.plts import plot_power_spectra\n",
    "from neurodsp.spectral import compute_spectrum\n",
    "\n",
    "from vcode.plts.timeseries import plot_timeseries"
   ]
  },
  {
   "cell_type": "code",
   "execution_count": null,
   "metadata": {},
   "outputs": [],
   "source": [
    "# Settings\n",
    "n_seconds = 1\n",
    "fs = 1000\n",
    "exp = -1"
   ]
  },
  {
   "cell_type": "code",
   "execution_count": null,
   "metadata": {},
   "outputs": [],
   "source": [
    "sig = sim_powerlaw(n_seconds, fs, exp)"
   ]
  },
  {
   "cell_type": "code",
   "execution_count": null,
   "metadata": {},
   "outputs": [],
   "source": [
    "def sig_combiner(n_per_sig, fs, exps):\n",
    "    \n",
    "    sigs = []\n",
    "    for exp in exps:\n",
    "        sigs.append(sim_powerlaw(n_per_sig, fs, exp))\n",
    "    sig = np.concatenate(sigs)\n",
    "    \n",
    "    return sig\n",
    "\n",
    "def yield_sig(sig, step=1):\n",
    "    for el in sig[::step]:\n",
    "        yield el\n",
    "        \n",
    "def live_plot_s(arr):\n",
    "    clear_output(wait=True)\n",
    "    plt.figure(figsize=(7,5))\n",
    "    #plt.plot(arr)\n",
    "    plot_timeseries(np.array(data), ax=plt.gca())\n",
    "    plt.show();"
   ]
  },
  {
   "cell_type": "code",
   "execution_count": null,
   "metadata": {},
   "outputs": [],
   "source": [
    "ap_sig = sig_combiner(0.2, 500, [0, -2])\n",
    "sig_yielder = yield_sig(ap_sig)"
   ]
  },
  {
   "cell_type": "code",
   "execution_count": null,
   "metadata": {},
   "outputs": [],
   "source": [
    "plt.plot(ap_sig)"
   ]
  },
  {
   "cell_type": "code",
   "execution_count": null,
   "metadata": {},
   "outputs": [],
   "source": [
    "data = []\n",
    "for ind in range(500):\n",
    "    data.append(next(sig_yielder))\n",
    "    live_plot_s(data)"
   ]
  },
  {
   "cell_type": "code",
   "execution_count": null,
   "metadata": {},
   "outputs": [],
   "source": []
  }
 ],
 "metadata": {
  "kernelspec": {
   "display_name": "Python 3 (ipykernel)",
   "language": "python",
   "name": "python3"
  },
  "language_info": {
   "codemirror_mode": {
    "name": "ipython",
    "version": 3
   },
   "file_extension": ".py",
   "mimetype": "text/x-python",
   "name": "python",
   "nbconvert_exporter": "python",
   "pygments_lexer": "ipython3",
   "version": "3.8.3"
  }
 },
 "nbformat": 4,
 "nbformat_minor": 4
}
